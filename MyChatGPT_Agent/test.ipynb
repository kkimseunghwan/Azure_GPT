{
 "cells": [
  {
   "cell_type": "code",
   "execution_count": null,
   "id": "cb57be98",
   "metadata": {},
   "outputs": [
    {
     "name": "stdout",
     "output_type": "stream",
     "text": [
      "In the realm of code, a concept profound,\n",
      "Lies recursion, a loop going round and round.\n",
      "Like a nesting doll, within itself it calls,\n",
      "Until a base case, the cycle stalls.\n",
      "\n",
      "A function that calls itself, you see,\n",
      "Unraveling layers of possibility.\n",
      "A programming magician's elegant trick,\n",
      "Solving problems with a recursive flick.\n",
      "\n",
      "Through each iteration, a journey profound,\n",
      "Breaking down tasks, piece by piece unbound.\n",
      "With elegance and grace, it dances and swirls,\n",
      "A recursive algorithm, the code unfurls.\n",
      "\n",
      "Though complex it may seem at first glance,\n",
      "Recursion's power, it does enhance.\n",
      "A concept in programming, both deep and bright,\n",
      "A loop within a loop, a recursive flight.\n"
     ]
    }
   ],
   "source": [
    "\n",
    "\n",
    "\n",
    "from openai import OpenAI\n",
    "import os\n",
    "os.environ[\"OPENAI_API_KEY\"] = \"\"\n",
    "client = OpenAI()\n",
    "\n",
    "completion = client.chat.completions.create(\n",
    "  model=\"gpt-3.5-turbo\",\n",
    "  messages=[\n",
    "    {\n",
    "          \"role\": \"system\",\n",
    "          \"content\": \"You are a poetic assistant, skilled in explaining complex progremmong concepts through poetry. Your task is to create a poem that explains the concept of recursion in programming in a way that is both informative and engaging.\"\n",
    "      },\n",
    "      {\n",
    "          \"role\": \"user\",\n",
    "          \"content\": \"Compose a poam that explains the concept of recursion in programming.\"\n",
    "      } \n",
    "  ]\n",
    ")\n",
    "\n",
    "print(completion.choices[0].message.content)\n",
    "\n",
    "\n",
    "\n",
    "\n"
   ]
  }
 ],
 "metadata": {
  "kernelspec": {
   "display_name": ".venv",
   "language": "python",
   "name": "python3"
  },
  "language_info": {
   "codemirror_mode": {
    "name": "ipython",
    "version": 3
   },
   "file_extension": ".py",
   "mimetype": "text/x-python",
   "name": "python",
   "nbconvert_exporter": "python",
   "pygments_lexer": "ipython3",
   "version": "3.11.9"
  }
 },
 "nbformat": 4,
 "nbformat_minor": 5
}
