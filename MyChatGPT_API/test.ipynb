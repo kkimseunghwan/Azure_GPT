{
 "cells": [
  {
   "cell_type": "code",
   "execution_count": null,
   "id": "47e85097",
   "metadata": {},
   "outputs": [
    {
     "data": {
      "text/plain": [
       "InsertOneResult(ObjectId('6864ce892d309a62265609bd'), acknowledged=True)"
      ]
     },
     "execution_count": 4,
     "metadata": {},
     "output_type": "execute_result"
    }
   ],
   "source": [
    "from motor.motor_asyncio import AsyncIOMotorClient\n",
    "\n",
    "# DB 연결 클라이언트\n",
    "# 인자로는 데이터베이스의 연결 문자열\n",
    "db_client = AsyncIOMotorClient(\"\")\n",
    "\n",
    "# myGPT 데이터 베이스를 쓰도록 설정\n",
    "db = db_client['myGPT']\n",
    "\n",
    "\n",
    "# 데이터 넣기\n",
    "# 지정힌DB.테이블.insert_one( {JSON 데이터} )\n",
    "# await db.messages.insert_one({\"channel_id\": \"asdfasdf\", \"content\": \"Data_02\" })\n",
    "\n"
   ]
  },
  {
   "cell_type": "code",
   "execution_count": null,
   "id": "8013aae2",
   "metadata": {},
   "outputs": [
    {
     "data": {
      "text/plain": [
       "[{'_id': ObjectId('6864ce572d309a62265609ba'),\n",
       "  'channel_id': 'asdfasdf',\n",
       "  'content': 'Data_01'},\n",
       " {'_id': ObjectId('6864ce882d309a62265609bc'),\n",
       "  'channel_id': 'asdfasdf',\n",
       "  'content': 'Data_02'},\n",
       " {'_id': ObjectId('6864ce892d309a62265609bd'),\n",
       "  'channel_id': 'asdfasdf',\n",
       "  'content': 'Data_03'}]"
      ]
     },
     "execution_count": 16,
     "metadata": {},
     "output_type": "execute_result"
    }
   ],
   "source": [
    "\n",
    "# 데이터 조회\n",
    "# 조회는 기본적으로 _id 를 기준으로 오래된 것부터 나옴\n",
    "await db.messages.find({\"channel_id\": \"asdfasdf\"}).to_list()\n",
    "\n"
   ]
  }
 ],
 "metadata": {
  "kernelspec": {
   "display_name": ".venv",
   "language": "python",
   "name": "python3"
  },
  "language_info": {
   "codemirror_mode": {
    "name": "ipython",
    "version": 3
   },
   "file_extension": ".py",
   "mimetype": "text/x-python",
   "name": "python",
   "nbconvert_exporter": "python",
   "pygments_lexer": "ipython3",
   "version": "3.11.9"
  }
 },
 "nbformat": 4,
 "nbformat_minor": 5
}
