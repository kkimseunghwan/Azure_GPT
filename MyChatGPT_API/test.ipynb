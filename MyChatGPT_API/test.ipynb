{
 "cells": [
  {
   "cell_type": "code",
   "execution_count": null,
   "id": "47e85097",
   "metadata": {},
   "outputs": [],
   "source": [
    "from motor.motor_asyncio import AsyncIOMotorClient\n",
    "\n",
    "# DB 연결 클라이언트\n",
    "# 인자로는 데이터베이스의 연결 문자열\n",
    "db_client = AsyncIOMotorClient(\"\")\n",
    "\n",
    "# myGPT 데이터 베이스를 쓰도록 설정\n",
    "db = db_client['myGPT']\n",
    "\n",
    "\n",
    "# 데이터 넣기\n",
    "# 지정힌DB.테이블.insert_one( {JSON 데이터} )\n",
    "# await db.messages.insert_one({\"channel_id\": \"asdfasdf\", \"content\": \"Data_02\" })\n",
    "\n"
   ]
  },
  {
   "cell_type": "code",
   "execution_count": null,
   "id": "8013aae2",
   "metadata": {},
   "outputs": [],
   "source": [
    "\n",
    "# 데이터 조회\n",
    "# 조회는 기본적으로 _id 를 기준으로 오래된 것부터 나옴\n",
    "await db.messages.find({\"channel_id\": \"asdfasdf\"}).to_list()\n",
    "\n"
   ]
  },
  {
   "cell_type": "code",
   "execution_count": null,
   "id": "393672bf",
   "metadata": {},
   "outputs": [],
   "source": [
    "# .aio : 비동기 클라이언트\n",
    "from azure.servicebus.aio import ServiceBusClient\n",
    "# ServiceBusMessage : 큐에 보낼 메세지의 형식. 큐에 메세지 보낼 때 사용\n",
    "from azure.servicebus import ServiceBusMessage\n",
    "import json\n",
    "\n",
    "# 연결 문자열을 받고 해야할 것\n",
    "#   환경변수 세팅. local.settings.json 에서 DB_CONNECTION_URLR 값 입력\n",
    "#   클라이언트를 생성, 해당 클라이언트를 통해서 큐에 대한 sender와 receiver 를 생성 가능\n",
    "#       sender : 큐에 메세지를 보내는 인스턴스\n",
    "#       receiver : 큐에 메세지를 받는 인스턴스\n",
    "\n",
    "SERVICEBUS_CONNECTION_URL = \"\"\n",
    "\n",
    "# 클라이언트 생성\n",
    "# ServiceBusClient.from_connection_string(conn_str={서비스버스 연결 문자열}, logging_enable=True (로깅 활성화))\n",
    "servicebus_client = ServiceBusClient.from_connection_string(conn_str=SERVICEBUS_CONNECTION_URL, logging_enable=True)\n",
    "\n",
    "# 큐에 보낼 임시 메세지\n",
    "question_json_data = {\n",
    "    \"channel_id\": \"asdfasdf\",\n",
    "    \"content\": \"DataDATATATAT\"\n",
    "}\n",
    "\n",
    "\n",
    "# 큐에 메세지를 보내는 sender 생성\n",
    "# 비동기\n",
    "\n",
    "# 컨텍스트 관리자 열기?\n",
    "# with 문법 사용 이유 : servicebus_client 내부에 있는 __aenter__ 와 __aexit__ 메서드가 알아서 호출됨\n",
    "# = 자원의 낭비 없이 코드 작성 가능\n",
    "async with servicebus_client:\n",
    "    # 큐에 메세지를 보내는 sender 생성\n",
    "    # get_queue_sender : 직접적으로 사용할 큐 이름을 지정\n",
    "    sender = servicebus_client.get_queue_sender(queue_name=\"process-request-queue\")\n",
    "\n",
    "    # sender 를 열기 (얘도 with 문법 사용)\n",
    "    async with sender:\n",
    "        # 보낼 메세지를 ServiceBusMessage 형식으로 변환\n",
    "        # json 형식이 없으므로, json.dumps() 함수를 사용\n",
    "        message = ServiceBusMessage(json.dumps(question_json_data))\n",
    "        \n",
    "        # 큐에 메세지 보내기\n",
    "        await sender.send_messages(message)\n",
    "\n",
    "    # With 문법을 사용했으므로 작업 완료 시 sender.close(), servicebus_client.close() 를 호출할 필요 없음\n",
    "\n",
    "\n"
   ]
  }
 ],
 "metadata": {
  "kernelspec": {
   "display_name": ".venv",
   "language": "python",
   "name": "python3"
  },
  "language_info": {
   "codemirror_mode": {
    "name": "ipython",
    "version": 3
   },
   "file_extension": ".py",
   "mimetype": "text/x-python",
   "name": "python",
   "nbconvert_exporter": "python",
   "pygments_lexer": "ipython3",
   "version": "3.11.9"
  }
 },
 "nbformat": 4,
 "nbformat_minor": 5
}
